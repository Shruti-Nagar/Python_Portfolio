{
 "cells": [
  {
   "cell_type": "markdown",
   "metadata": {},
   "source": [
    "# Customer Purchase"
   ]
  },
  {
   "cell_type": "code",
   "execution_count": 1,
   "metadata": {},
   "outputs": [],
   "source": [
    "import numpy as np\n",
    "import pandas as pd\n",
    "import matplotlib as mpl\n",
    "import matplotlib.pyplot as plt\n",
    "import seaborn as sns"
   ]
  },
  {
   "cell_type": "code",
   "execution_count": 2,
   "metadata": {},
   "outputs": [],
   "source": [
    "url = \"https://github.com/Shrutinagar/datasets/raw/main/%5BPython%20Dataset%5D%20-%20customer_purchases.csv\""
   ]
  },
  {
   "cell_type": "code",
   "execution_count": 3,
   "metadata": {},
   "outputs": [
    {
     "data": {
      "text/plain": [
       "('customer_purchase.csv', <http.client.HTTPMessage at 0x7f4dd1452dc0>)"
      ]
     },
     "execution_count": 3,
     "metadata": {},
     "output_type": "execute_result"
    }
   ],
   "source": [
    "from urllib.request import urlretrieve\n",
    "urlretrieve(url, \"customer_purchase.csv\")"
   ]
  },
  {
   "cell_type": "code",
   "execution_count": 4,
   "metadata": {},
   "outputs": [],
   "source": [
    "df = pd.read_csv(\"customer_purchase.csv\")"
   ]
  },
  {
   "cell_type": "code",
   "execution_count": 5,
   "metadata": {
    "scrolled": true
   },
   "outputs": [
    {
     "data": {
      "text/html": [
       "<div>\n",
       "<style scoped>\n",
       "    .dataframe tbody tr th:only-of-type {\n",
       "        vertical-align: middle;\n",
       "    }\n",
       "\n",
       "    .dataframe tbody tr th {\n",
       "        vertical-align: top;\n",
       "    }\n",
       "\n",
       "    .dataframe thead th {\n",
       "        text-align: right;\n",
       "    }\n",
       "</style>\n",
       "<table border=\"1\" class=\"dataframe\">\n",
       "  <thead>\n",
       "    <tr style=\"text-align: right;\">\n",
       "      <th></th>\n",
       "      <th>Customer ID</th>\n",
       "      <th>Purchase Date</th>\n",
       "      <th>Product Name</th>\n",
       "      <th>Product Category</th>\n",
       "      <th>Quantity</th>\n",
       "      <th>Total Price</th>\n",
       "    </tr>\n",
       "  </thead>\n",
       "  <tbody>\n",
       "    <tr>\n",
       "      <th>0</th>\n",
       "      <td>1046</td>\n",
       "      <td>2023-02-26</td>\n",
       "      <td>across</td>\n",
       "      <td>certain</td>\n",
       "      <td>17</td>\n",
       "      <td>134.96</td>\n",
       "    </tr>\n",
       "    <tr>\n",
       "      <th>1</th>\n",
       "      <td>1083</td>\n",
       "      <td>2023-10-10</td>\n",
       "      <td>attention</td>\n",
       "      <td>worry</td>\n",
       "      <td>13</td>\n",
       "      <td>178.36</td>\n",
       "    </tr>\n",
       "    <tr>\n",
       "      <th>2</th>\n",
       "      <td>1051</td>\n",
       "      <td>2023-04-04</td>\n",
       "      <td>raise</td>\n",
       "      <td>politics</td>\n",
       "      <td>13</td>\n",
       "      <td>176.99</td>\n",
       "    </tr>\n",
       "    <tr>\n",
       "      <th>3</th>\n",
       "      <td>1032</td>\n",
       "      <td>2023-04-16</td>\n",
       "      <td>scientist</td>\n",
       "      <td>push</td>\n",
       "      <td>6</td>\n",
       "      <td>187.37</td>\n",
       "    </tr>\n",
       "    <tr>\n",
       "      <th>4</th>\n",
       "      <td>1013</td>\n",
       "      <td>2023-02-26</td>\n",
       "      <td>free</td>\n",
       "      <td>word</td>\n",
       "      <td>7</td>\n",
       "      <td>103.51</td>\n",
       "    </tr>\n",
       "    <tr>\n",
       "      <th>...</th>\n",
       "      <td>...</td>\n",
       "      <td>...</td>\n",
       "      <td>...</td>\n",
       "      <td>...</td>\n",
       "      <td>...</td>\n",
       "      <td>...</td>\n",
       "    </tr>\n",
       "    <tr>\n",
       "      <th>995</th>\n",
       "      <td>1058</td>\n",
       "      <td>2022-12-02</td>\n",
       "      <td>leave</td>\n",
       "      <td>goal</td>\n",
       "      <td>9</td>\n",
       "      <td>11.15</td>\n",
       "    </tr>\n",
       "    <tr>\n",
       "      <th>996</th>\n",
       "      <td>1092</td>\n",
       "      <td>2023-02-03</td>\n",
       "      <td>eye</td>\n",
       "      <td>here</td>\n",
       "      <td>14</td>\n",
       "      <td>124.80</td>\n",
       "    </tr>\n",
       "    <tr>\n",
       "      <th>997</th>\n",
       "      <td>1007</td>\n",
       "      <td>2023-01-04</td>\n",
       "      <td>yes</td>\n",
       "      <td>over</td>\n",
       "      <td>7</td>\n",
       "      <td>12.20</td>\n",
       "    </tr>\n",
       "    <tr>\n",
       "      <th>998</th>\n",
       "      <td>1082</td>\n",
       "      <td>2023-08-13</td>\n",
       "      <td>toward</td>\n",
       "      <td>determine</td>\n",
       "      <td>9</td>\n",
       "      <td>97.94</td>\n",
       "    </tr>\n",
       "    <tr>\n",
       "      <th>999</th>\n",
       "      <td>1047</td>\n",
       "      <td>2023-11-13</td>\n",
       "      <td>worry</td>\n",
       "      <td>send</td>\n",
       "      <td>5</td>\n",
       "      <td>159.47</td>\n",
       "    </tr>\n",
       "  </tbody>\n",
       "</table>\n",
       "<p>1000 rows × 6 columns</p>\n",
       "</div>"
      ],
      "text/plain": [
       "     Customer ID Purchase Date Product Name Product Category  Quantity  \\\n",
       "0           1046    2023-02-26       across          certain        17   \n",
       "1           1083    2023-10-10    attention            worry        13   \n",
       "2           1051    2023-04-04        raise         politics        13   \n",
       "3           1032    2023-04-16    scientist             push         6   \n",
       "4           1013    2023-02-26         free             word         7   \n",
       "..           ...           ...          ...              ...       ...   \n",
       "995         1058    2022-12-02        leave             goal         9   \n",
       "996         1092    2023-02-03          eye             here        14   \n",
       "997         1007    2023-01-04          yes             over         7   \n",
       "998         1082    2023-08-13       toward        determine         9   \n",
       "999         1047    2023-11-13        worry             send         5   \n",
       "\n",
       "     Total Price  \n",
       "0         134.96  \n",
       "1         178.36  \n",
       "2         176.99  \n",
       "3         187.37  \n",
       "4         103.51  \n",
       "..           ...  \n",
       "995        11.15  \n",
       "996       124.80  \n",
       "997        12.20  \n",
       "998        97.94  \n",
       "999       159.47  \n",
       "\n",
       "[1000 rows x 6 columns]"
      ]
     },
     "execution_count": 5,
     "metadata": {},
     "output_type": "execute_result"
    }
   ],
   "source": [
    "df"
   ]
  },
  {
   "cell_type": "code",
   "execution_count": 6,
   "metadata": {},
   "outputs": [
    {
     "name": "stdout",
     "output_type": "stream",
     "text": [
      "<class 'pandas.core.frame.DataFrame'>\n",
      "RangeIndex: 1000 entries, 0 to 999\n",
      "Data columns (total 6 columns):\n",
      " #   Column            Non-Null Count  Dtype  \n",
      "---  ------            --------------  -----  \n",
      " 0   Customer ID       1000 non-null   int64  \n",
      " 1   Purchase Date     1000 non-null   object \n",
      " 2   Product Name      1000 non-null   object \n",
      " 3   Product Category  1000 non-null   object \n",
      " 4   Quantity          1000 non-null   int64  \n",
      " 5   Total Price       1000 non-null   float64\n",
      "dtypes: float64(1), int64(2), object(3)\n",
      "memory usage: 47.0+ KB\n"
     ]
    }
   ],
   "source": [
    "df.info()"
   ]
  },
  {
   "cell_type": "markdown",
   "metadata": {},
   "source": [
    "### Total Revenue"
   ]
  },
  {
   "cell_type": "code",
   "execution_count": 7,
   "metadata": {},
   "outputs": [
    {
     "name": "stdout",
     "output_type": "stream",
     "text": [
      "Total Revenue is Rs.107285.83\n"
     ]
    }
   ],
   "source": [
    "total_revenue = round(df[\"Total Price\"].sum(),2)\n",
    "print(\"Total Revenue is Rs.{}\".format(total_revenue))"
   ]
  },
  {
   "cell_type": "markdown",
   "metadata": {},
   "source": [
    "### Top 5 Best Selling Products"
   ]
  },
  {
   "cell_type": "code",
   "execution_count": 8,
   "metadata": {},
   "outputs": [],
   "source": [
    "best_seller = df.groupby(\"Product Name\")[[\"Quantity\"]].sum()"
   ]
  },
  {
   "cell_type": "code",
   "execution_count": 9,
   "metadata": {},
   "outputs": [],
   "source": [
    "best_seller = best_seller.sort_values(by = \"Quantity\", ascending = False)"
   ]
  },
  {
   "cell_type": "code",
   "execution_count": 10,
   "metadata": {
    "scrolled": true
   },
   "outputs": [
    {
     "data": {
      "text/html": [
       "<div>\n",
       "<style scoped>\n",
       "    .dataframe tbody tr th:only-of-type {\n",
       "        vertical-align: middle;\n",
       "    }\n",
       "\n",
       "    .dataframe tbody tr th {\n",
       "        vertical-align: top;\n",
       "    }\n",
       "\n",
       "    .dataframe thead th {\n",
       "        text-align: right;\n",
       "    }\n",
       "</style>\n",
       "<table border=\"1\" class=\"dataframe\">\n",
       "  <thead>\n",
       "    <tr style=\"text-align: right;\">\n",
       "      <th></th>\n",
       "      <th>Quantity</th>\n",
       "    </tr>\n",
       "    <tr>\n",
       "      <th>Product Name</th>\n",
       "      <th></th>\n",
       "    </tr>\n",
       "  </thead>\n",
       "  <tbody>\n",
       "    <tr>\n",
       "      <th>special</th>\n",
       "      <td>76</td>\n",
       "    </tr>\n",
       "    <tr>\n",
       "      <th>degree</th>\n",
       "      <td>64</td>\n",
       "    </tr>\n",
       "    <tr>\n",
       "      <th>least</th>\n",
       "      <td>60</td>\n",
       "    </tr>\n",
       "    <tr>\n",
       "      <th>accept</th>\n",
       "      <td>55</td>\n",
       "    </tr>\n",
       "    <tr>\n",
       "      <th>true</th>\n",
       "      <td>54</td>\n",
       "    </tr>\n",
       "  </tbody>\n",
       "</table>\n",
       "</div>"
      ],
      "text/plain": [
       "              Quantity\n",
       "Product Name          \n",
       "special             76\n",
       "degree              64\n",
       "least               60\n",
       "accept              55\n",
       "true                54"
      ]
     },
     "execution_count": 10,
     "metadata": {},
     "output_type": "execute_result"
    }
   ],
   "source": [
    "best_seller_5 = best_seller.head(5)\n",
    "best_seller_5"
   ]
  },
  {
   "cell_type": "markdown",
   "metadata": {},
   "source": [
    "### Average Quantity of Products Purchased per Customer"
   ]
  },
  {
   "cell_type": "code",
   "execution_count": 11,
   "metadata": {},
   "outputs": [],
   "source": [
    "Avg_Quantity = round(df.groupby(\"Customer ID\")[\"Quantity\"].mean(),0)"
   ]
  },
  {
   "cell_type": "code",
   "execution_count": 12,
   "metadata": {
    "scrolled": true
   },
   "outputs": [
    {
     "name": "stdout",
     "output_type": "stream",
     "text": [
      "Customer ID\n",
      "1001     9.0\n",
      "1002    10.0\n",
      "1003     8.0\n",
      "1004     8.0\n",
      "1005    10.0\n",
      "1006     9.0\n",
      "1007    10.0\n",
      "1008     9.0\n",
      "1009    12.0\n",
      "1010    11.0\n",
      "1011    11.0\n",
      "1012    12.0\n",
      "1013    10.0\n",
      "1014     6.0\n",
      "1015    10.0\n",
      "1016     8.0\n",
      "1017    14.0\n",
      "1018    10.0\n",
      "1019     9.0\n",
      "1020    12.0\n",
      "1021    10.0\n",
      "1022    11.0\n",
      "1023    10.0\n",
      "1024     9.0\n",
      "1025    15.0\n",
      "1026    11.0\n",
      "1027    10.0\n",
      "1028    10.0\n",
      "1029    13.0\n",
      "1030    13.0\n",
      "1031     9.0\n",
      "1032    10.0\n",
      "1033     8.0\n",
      "1034     8.0\n",
      "1035    13.0\n",
      "1036     9.0\n",
      "1037    10.0\n",
      "1038    10.0\n",
      "1039     7.0\n",
      "1040    10.0\n",
      "1041    10.0\n",
      "1042     6.0\n",
      "1043    10.0\n",
      "1044    11.0\n",
      "1045    10.0\n",
      "1046     9.0\n",
      "1047     9.0\n",
      "1048    16.0\n",
      "1049     9.0\n",
      "1050    11.0\n",
      "1051     8.0\n",
      "1052     9.0\n",
      "1053     6.0\n",
      "1054    10.0\n",
      "1055    12.0\n",
      "1056    12.0\n",
      "1057    10.0\n",
      "1058    11.0\n",
      "1059    10.0\n",
      "1060    12.0\n",
      "1061    11.0\n",
      "1062    13.0\n",
      "1063    14.0\n",
      "1064     9.0\n",
      "1065     8.0\n",
      "1066    12.0\n",
      "1067     9.0\n",
      "1068    15.0\n",
      "1069    12.0\n",
      "1070     9.0\n",
      "1071     9.0\n",
      "1072     9.0\n",
      "1073     9.0\n",
      "1074    14.0\n",
      "1075     8.0\n",
      "1076    15.0\n",
      "1077    12.0\n",
      "1078    14.0\n",
      "1079     9.0\n",
      "1080    10.0\n",
      "1081    12.0\n",
      "1082    13.0\n",
      "1083    11.0\n",
      "1084     9.0\n",
      "1085    10.0\n",
      "1086    11.0\n",
      "1087    10.0\n",
      "1088    12.0\n",
      "1089    10.0\n",
      "1090     8.0\n",
      "1091    10.0\n",
      "1092    11.0\n",
      "1093     9.0\n",
      "1094    11.0\n",
      "1095    12.0\n",
      "1096     9.0\n",
      "1097    11.0\n",
      "1098    10.0\n",
      "1099     7.0\n",
      "1100     6.0\n",
      "Name: Quantity, dtype: float64\n"
     ]
    }
   ],
   "source": [
    "with pd.option_context(\"display.max_rows\",None):\n",
    "    print(Avg_Quantity)"
   ]
  },
  {
   "cell_type": "markdown",
   "metadata": {},
   "source": [
    "### Monthly Sales Report\n",
    "        -Total Revenue for each month"
   ]
  },
  {
   "cell_type": "code",
   "execution_count": 13,
   "metadata": {},
   "outputs": [],
   "source": [
    "# converting Purchase Date column to date format\n",
    "df['Purchase Date'] = pd.to_datetime(df[\"Purchase Date\"])\n",
    "\n",
    "# Creating new column for month\n",
    "df[\"Month\"] = df[\"Purchase Date\"].dt.to_period(\"M\")"
   ]
  },
  {
   "cell_type": "code",
   "execution_count": 14,
   "metadata": {},
   "outputs": [],
   "source": [
    "df[\"Year\"] = df[\"Purchase Date\"].dt.year"
   ]
  },
  {
   "cell_type": "code",
   "execution_count": 15,
   "metadata": {},
   "outputs": [],
   "source": [
    "#monthly sales report\n",
    "monthly_sales = df.groupby(\"Month\")[\"Total Price\"].sum()"
   ]
  },
  {
   "cell_type": "code",
   "execution_count": 16,
   "metadata": {},
   "outputs": [
    {
     "name": "stdout",
     "output_type": "stream",
     "text": [
      "Month\n",
      "2022-11      578.79\n",
      "2022-12     9414.71\n",
      "2023-01     9451.95\n",
      "2023-02     9634.90\n",
      "2023-03     8997.52\n",
      "2023-04     9049.23\n",
      "2023-05     6178.53\n",
      "2023-06     8664.21\n",
      "2023-07    10132.95\n",
      "2023-08     7860.04\n",
      "2023-09     8615.01\n",
      "2023-10     7933.93\n",
      "2023-11    10774.06\n",
      "Freq: M, Name: Total Price, dtype: float64\n"
     ]
    }
   ],
   "source": [
    "print(monthly_sales)"
   ]
  }
 ],
 "metadata": {
  "kernelspec": {
   "display_name": "Python 3 (ipykernel)",
   "language": "python",
   "name": "python3"
  },
  "language_info": {
   "codemirror_mode": {
    "name": "ipython",
    "version": 3
   },
   "file_extension": ".py",
   "mimetype": "text/x-python",
   "name": "python",
   "nbconvert_exporter": "python",
   "pygments_lexer": "ipython3",
   "version": "3.9.7"
  }
 },
 "nbformat": 4,
 "nbformat_minor": 2
}
